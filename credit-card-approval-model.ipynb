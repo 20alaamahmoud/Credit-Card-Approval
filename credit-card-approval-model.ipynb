{
 "cells": [
  {
   "cell_type": "code",
   "execution_count": 1,
   "id": "d2aae56b",
   "metadata": {
    "_cell_guid": "b1076dfc-b9ad-4769-8c92-a6c4dae69d19",
    "_uuid": "8f2839f25d086af736a60e9eeb907d3b93b6e0e5",
    "execution": {
     "iopub.execute_input": "2024-12-03T14:35:44.771961Z",
     "iopub.status.busy": "2024-12-03T14:35:44.771559Z",
     "iopub.status.idle": "2024-12-03T14:35:45.631540Z",
     "shell.execute_reply": "2024-12-03T14:35:45.630425Z"
    },
    "papermill": {
     "duration": 0.873296,
     "end_time": "2024-12-03T14:35:45.634016",
     "exception": false,
     "start_time": "2024-12-03T14:35:44.760720",
     "status": "completed"
    },
    "tags": []
   },
   "outputs": [
    {
     "name": "stdout",
     "output_type": "stream",
     "text": [
      "/kaggle/input/a-credit-card-dataset-for-machine-exam/credit_record.csv\n",
      "/kaggle/input/a-credit-card-dataset-for-machine-exam/application_record.csv\n"
     ]
    }
   ],
   "source": [
    "# This Python 3 environment comes with many helpful analytics libraries installed\n",
    "# It is defined by the kaggle/python Docker image: https://github.com/kaggle/docker-python\n",
    "# For example, here's several helpful packages to load\n",
    "\n",
    "import numpy as np # linear algebra\n",
    "import pandas as pd # data processing, CSV file I/O (e.g. pd.read_csv)\n",
    "\n",
    "# Input data files are available in the read-only \"../input/\" directory\n",
    "# For example, running this (by clicking run or pressing Shift+Enter) will list all files under the input directory\n",
    "\n",
    "import os\n",
    "for dirname, _, filenames in os.walk('/kaggle/input'):\n",
    "    for filename in filenames:\n",
    "        print(os.path.join(dirname, filename))\n",
    "\n",
    "# You can write up to 20GB to the current directory (/kaggle/working/) that gets preserved as output when you create a version using \"Save & Run All\" \n",
    "# You can also write temporary files to /kaggle/temp/, but they won't be saved outside of the current session"
   ]
  },
  {
   "cell_type": "markdown",
   "id": "18795e78",
   "metadata": {
    "papermill": {
     "duration": 0.009401,
     "end_time": "2024-12-03T14:35:45.652409",
     "exception": false,
     "start_time": "2024-12-03T14:35:45.643008",
     "status": "completed"
    },
    "tags": []
   },
   "source": [
    "# Import Libraries"
   ]
  },
  {
   "cell_type": "code",
   "execution_count": 2,
   "id": "e167a228",
   "metadata": {
    "execution": {
     "iopub.execute_input": "2024-12-03T14:35:45.671207Z",
     "iopub.status.busy": "2024-12-03T14:35:45.670709Z",
     "iopub.status.idle": "2024-12-03T14:35:47.986923Z",
     "shell.execute_reply": "2024-12-03T14:35:47.985865Z"
    },
    "papermill": {
     "duration": 2.328989,
     "end_time": "2024-12-03T14:35:47.989969",
     "exception": false,
     "start_time": "2024-12-03T14:35:45.660980",
     "status": "completed"
    },
    "tags": []
   },
   "outputs": [],
   "source": [
    "from sklearn.model_selection import train_test_split\n",
    "from sklearn.ensemble import GradientBoostingClassifier\n",
    "import xgboost as xgb\n",
    "from sklearn.metrics import accuracy_score, roc_auc_score, classification_report\n",
    "from sklearn.preprocessing import StandardScaler, LabelEncoder\n",
    "import matplotlib.pyplot as plt\n",
    "import seaborn as sns\n"
   ]
  },
  {
   "cell_type": "markdown",
   "id": "58fd9282",
   "metadata": {
    "papermill": {
     "duration": 0.008371,
     "end_time": "2024-12-03T14:35:48.012390",
     "exception": false,
     "start_time": "2024-12-03T14:35:48.004019",
     "status": "completed"
    },
    "tags": []
   },
   "source": [
    "# Load and Merge Data"
   ]
  },
  {
   "cell_type": "markdown",
   "id": "927281eb",
   "metadata": {
    "papermill": {
     "duration": 0.008415,
     "end_time": "2024-12-03T14:35:48.029770",
     "exception": false,
     "start_time": "2024-12-03T14:35:48.021355",
     "status": "completed"
    },
    "tags": []
   },
   "source": [
    "**Load the Datasets**"
   ]
  },
  {
   "cell_type": "code",
   "execution_count": 3,
   "id": "bea8a724",
   "metadata": {
    "execution": {
     "iopub.execute_input": "2024-12-03T14:35:48.048658Z",
     "iopub.status.busy": "2024-12-03T14:35:48.048113Z",
     "iopub.status.idle": "2024-12-03T14:35:50.240484Z",
     "shell.execute_reply": "2024-12-03T14:35:50.239553Z"
    },
    "papermill": {
     "duration": 2.204606,
     "end_time": "2024-12-03T14:35:50.242937",
     "exception": false,
     "start_time": "2024-12-03T14:35:48.038331",
     "status": "completed"
    },
    "tags": []
   },
   "outputs": [],
   "source": [
    "application_df = pd.read_csv('/kaggle/input/a-credit-card-dataset-for-machine-exam/application_record.csv', encoding='latin1')\n",
    "credit_df = pd.read_csv('/kaggle/input/a-credit-card-dataset-for-machine-exam/credit_record.csv', encoding='latin1')"
   ]
  },
  {
   "cell_type": "markdown",
   "id": "372eaa5a",
   "metadata": {
    "papermill": {
     "duration": 0.00967,
     "end_time": "2024-12-03T14:35:50.263372",
     "exception": false,
     "start_time": "2024-12-03T14:35:50.253702",
     "status": "completed"
    },
    "tags": []
   },
   "source": [
    "**Preview the Data**"
   ]
  },
  {
   "cell_type": "code",
   "execution_count": 4,
   "id": "7730695e",
   "metadata": {
    "execution": {
     "iopub.execute_input": "2024-12-03T14:35:50.282055Z",
     "iopub.status.busy": "2024-12-03T14:35:50.281668Z",
     "iopub.status.idle": "2024-12-03T14:35:50.308099Z",
     "shell.execute_reply": "2024-12-03T14:35:50.307072Z"
    },
    "papermill": {
     "duration": 0.038483,
     "end_time": "2024-12-03T14:35:50.310371",
     "exception": false,
     "start_time": "2024-12-03T14:35:50.271888",
     "status": "completed"
    },
    "tags": []
   },
   "outputs": [
    {
     "data": {
      "text/html": [
       "<div>\n",
       "<style scoped>\n",
       "    .dataframe tbody tr th:only-of-type {\n",
       "        vertical-align: middle;\n",
       "    }\n",
       "\n",
       "    .dataframe tbody tr th {\n",
       "        vertical-align: top;\n",
       "    }\n",
       "\n",
       "    .dataframe thead th {\n",
       "        text-align: right;\n",
       "    }\n",
       "</style>\n",
       "<table border=\"1\" class=\"dataframe\">\n",
       "  <thead>\n",
       "    <tr style=\"text-align: right;\">\n",
       "      <th></th>\n",
       "      <th>ID</th>\n",
       "      <th>CODE_GENDER</th>\n",
       "      <th>FLAG_OWN_CAR</th>\n",
       "      <th>FLAG_OWN_REALTY</th>\n",
       "      <th>CNT_CHILDREN</th>\n",
       "      <th>AMT_INCOME_TOTAL</th>\n",
       "      <th>NAME_INCOME_TYPE</th>\n",
       "      <th>NAME_EDUCATION_TYPE</th>\n",
       "      <th>NAME_FAMILY_STATUS</th>\n",
       "      <th>NAME_HOUSING_TYPE</th>\n",
       "      <th>DAYS_BIRTH</th>\n",
       "      <th>DAYS_EMPLOYED</th>\n",
       "      <th>FLAG_MOBIL</th>\n",
       "      <th>FLAG_WORK_PHONE</th>\n",
       "      <th>FLAG_PHONE</th>\n",
       "      <th>FLAG_EMAIL</th>\n",
       "      <th>OCCUPATION_TYPE</th>\n",
       "      <th>CNT_FAM_MEMBERS</th>\n",
       "    </tr>\n",
       "  </thead>\n",
       "  <tbody>\n",
       "    <tr>\n",
       "      <th>0</th>\n",
       "      <td>5008804</td>\n",
       "      <td>M</td>\n",
       "      <td>Y</td>\n",
       "      <td>Y</td>\n",
       "      <td>0</td>\n",
       "      <td>427500.0</td>\n",
       "      <td>Working</td>\n",
       "      <td>Higher education</td>\n",
       "      <td>Civil marriage</td>\n",
       "      <td>Rented apartment</td>\n",
       "      <td>-12005</td>\n",
       "      <td>-4542</td>\n",
       "      <td>1</td>\n",
       "      <td>1</td>\n",
       "      <td>0</td>\n",
       "      <td>0</td>\n",
       "      <td>NaN</td>\n",
       "      <td>2.0</td>\n",
       "    </tr>\n",
       "    <tr>\n",
       "      <th>1</th>\n",
       "      <td>5008805</td>\n",
       "      <td>M</td>\n",
       "      <td>Y</td>\n",
       "      <td>Y</td>\n",
       "      <td>0</td>\n",
       "      <td>427500.0</td>\n",
       "      <td>Working</td>\n",
       "      <td>Higher education</td>\n",
       "      <td>Civil marriage</td>\n",
       "      <td>Rented apartment</td>\n",
       "      <td>-12005</td>\n",
       "      <td>-4542</td>\n",
       "      <td>1</td>\n",
       "      <td>1</td>\n",
       "      <td>0</td>\n",
       "      <td>0</td>\n",
       "      <td>NaN</td>\n",
       "      <td>2.0</td>\n",
       "    </tr>\n",
       "    <tr>\n",
       "      <th>2</th>\n",
       "      <td>5008806</td>\n",
       "      <td>M</td>\n",
       "      <td>Y</td>\n",
       "      <td>Y</td>\n",
       "      <td>0</td>\n",
       "      <td>112500.0</td>\n",
       "      <td>Working</td>\n",
       "      <td>Secondary / secondary special</td>\n",
       "      <td>Married</td>\n",
       "      <td>House / apartment</td>\n",
       "      <td>-21474</td>\n",
       "      <td>-1134</td>\n",
       "      <td>1</td>\n",
       "      <td>0</td>\n",
       "      <td>0</td>\n",
       "      <td>0</td>\n",
       "      <td>Security staff</td>\n",
       "      <td>2.0</td>\n",
       "    </tr>\n",
       "    <tr>\n",
       "      <th>3</th>\n",
       "      <td>5008808</td>\n",
       "      <td>F</td>\n",
       "      <td>N</td>\n",
       "      <td>Y</td>\n",
       "      <td>0</td>\n",
       "      <td>270000.0</td>\n",
       "      <td>Commercial associate</td>\n",
       "      <td>Secondary / secondary special</td>\n",
       "      <td>Single / not married</td>\n",
       "      <td>House / apartment</td>\n",
       "      <td>-19110</td>\n",
       "      <td>-3051</td>\n",
       "      <td>1</td>\n",
       "      <td>0</td>\n",
       "      <td>1</td>\n",
       "      <td>1</td>\n",
       "      <td>Sales staff</td>\n",
       "      <td>1.0</td>\n",
       "    </tr>\n",
       "    <tr>\n",
       "      <th>4</th>\n",
       "      <td>5008809</td>\n",
       "      <td>F</td>\n",
       "      <td>N</td>\n",
       "      <td>Y</td>\n",
       "      <td>0</td>\n",
       "      <td>270000.0</td>\n",
       "      <td>Commercial associate</td>\n",
       "      <td>Secondary / secondary special</td>\n",
       "      <td>Single / not married</td>\n",
       "      <td>House / apartment</td>\n",
       "      <td>-19110</td>\n",
       "      <td>-3051</td>\n",
       "      <td>1</td>\n",
       "      <td>0</td>\n",
       "      <td>1</td>\n",
       "      <td>1</td>\n",
       "      <td>Sales staff</td>\n",
       "      <td>1.0</td>\n",
       "    </tr>\n",
       "  </tbody>\n",
       "</table>\n",
       "</div>"
      ],
      "text/plain": [
       "        ID CODE_GENDER FLAG_OWN_CAR FLAG_OWN_REALTY  CNT_CHILDREN  \\\n",
       "0  5008804           M            Y               Y             0   \n",
       "1  5008805           M            Y               Y             0   \n",
       "2  5008806           M            Y               Y             0   \n",
       "3  5008808           F            N               Y             0   \n",
       "4  5008809           F            N               Y             0   \n",
       "\n",
       "   AMT_INCOME_TOTAL      NAME_INCOME_TYPE            NAME_EDUCATION_TYPE  \\\n",
       "0          427500.0               Working               Higher education   \n",
       "1          427500.0               Working               Higher education   \n",
       "2          112500.0               Working  Secondary / secondary special   \n",
       "3          270000.0  Commercial associate  Secondary / secondary special   \n",
       "4          270000.0  Commercial associate  Secondary / secondary special   \n",
       "\n",
       "     NAME_FAMILY_STATUS  NAME_HOUSING_TYPE  DAYS_BIRTH  DAYS_EMPLOYED  \\\n",
       "0        Civil marriage   Rented apartment      -12005          -4542   \n",
       "1        Civil marriage   Rented apartment      -12005          -4542   \n",
       "2               Married  House / apartment      -21474          -1134   \n",
       "3  Single / not married  House / apartment      -19110          -3051   \n",
       "4  Single / not married  House / apartment      -19110          -3051   \n",
       "\n",
       "   FLAG_MOBIL  FLAG_WORK_PHONE  FLAG_PHONE  FLAG_EMAIL OCCUPATION_TYPE  \\\n",
       "0           1                1           0           0             NaN   \n",
       "1           1                1           0           0             NaN   \n",
       "2           1                0           0           0  Security staff   \n",
       "3           1                0           1           1     Sales staff   \n",
       "4           1                0           1           1     Sales staff   \n",
       "\n",
       "   CNT_FAM_MEMBERS  \n",
       "0              2.0  \n",
       "1              2.0  \n",
       "2              2.0  \n",
       "3              1.0  \n",
       "4              1.0  "
      ]
     },
     "execution_count": 4,
     "metadata": {},
     "output_type": "execute_result"
    }
   ],
   "source": [
    "application_df.head()"
   ]
  },
  {
   "cell_type": "code",
   "execution_count": 5,
   "id": "22306b27",
   "metadata": {
    "execution": {
     "iopub.execute_input": "2024-12-03T14:35:50.330946Z",
     "iopub.status.busy": "2024-12-03T14:35:50.330526Z",
     "iopub.status.idle": "2024-12-03T14:35:50.340257Z",
     "shell.execute_reply": "2024-12-03T14:35:50.339251Z"
    },
    "papermill": {
     "duration": 0.022393,
     "end_time": "2024-12-03T14:35:50.342243",
     "exception": false,
     "start_time": "2024-12-03T14:35:50.319850",
     "status": "completed"
    },
    "tags": []
   },
   "outputs": [
    {
     "data": {
      "text/html": [
       "<div>\n",
       "<style scoped>\n",
       "    .dataframe tbody tr th:only-of-type {\n",
       "        vertical-align: middle;\n",
       "    }\n",
       "\n",
       "    .dataframe tbody tr th {\n",
       "        vertical-align: top;\n",
       "    }\n",
       "\n",
       "    .dataframe thead th {\n",
       "        text-align: right;\n",
       "    }\n",
       "</style>\n",
       "<table border=\"1\" class=\"dataframe\">\n",
       "  <thead>\n",
       "    <tr style=\"text-align: right;\">\n",
       "      <th></th>\n",
       "      <th>ID</th>\n",
       "      <th>MONTHS_BALANCE</th>\n",
       "      <th>STATUS</th>\n",
       "    </tr>\n",
       "  </thead>\n",
       "  <tbody>\n",
       "    <tr>\n",
       "      <th>0</th>\n",
       "      <td>5001711</td>\n",
       "      <td>0</td>\n",
       "      <td>X</td>\n",
       "    </tr>\n",
       "    <tr>\n",
       "      <th>1</th>\n",
       "      <td>5001711</td>\n",
       "      <td>-1</td>\n",
       "      <td>0</td>\n",
       "    </tr>\n",
       "    <tr>\n",
       "      <th>2</th>\n",
       "      <td>5001711</td>\n",
       "      <td>-2</td>\n",
       "      <td>0</td>\n",
       "    </tr>\n",
       "    <tr>\n",
       "      <th>3</th>\n",
       "      <td>5001711</td>\n",
       "      <td>-3</td>\n",
       "      <td>0</td>\n",
       "    </tr>\n",
       "    <tr>\n",
       "      <th>4</th>\n",
       "      <td>5001712</td>\n",
       "      <td>0</td>\n",
       "      <td>C</td>\n",
       "    </tr>\n",
       "  </tbody>\n",
       "</table>\n",
       "</div>"
      ],
      "text/plain": [
       "        ID  MONTHS_BALANCE STATUS\n",
       "0  5001711               0      X\n",
       "1  5001711              -1      0\n",
       "2  5001711              -2      0\n",
       "3  5001711              -3      0\n",
       "4  5001712               0      C"
      ]
     },
     "execution_count": 5,
     "metadata": {},
     "output_type": "execute_result"
    }
   ],
   "source": [
    "credit_df.head()"
   ]
  },
  {
   "cell_type": "markdown",
   "id": "532b8ff4",
   "metadata": {
    "papermill": {
     "duration": 0.008972,
     "end_time": "2024-12-03T14:35:50.360380",
     "exception": false,
     "start_time": "2024-12-03T14:35:50.351408",
     "status": "completed"
    },
    "tags": []
   },
   "source": [
    "**Aggregate credit data**"
   ]
  },
  {
   "cell_type": "code",
   "execution_count": 6,
   "id": "c4c3aa5c",
   "metadata": {
    "execution": {
     "iopub.execute_input": "2024-12-03T14:35:50.380749Z",
     "iopub.status.busy": "2024-12-03T14:35:50.379912Z",
     "iopub.status.idle": "2024-12-03T14:35:51.311981Z",
     "shell.execute_reply": "2024-12-03T14:35:51.310917Z"
    },
    "papermill": {
     "duration": 0.944872,
     "end_time": "2024-12-03T14:35:51.314343",
     "exception": false,
     "start_time": "2024-12-03T14:35:50.369471",
     "status": "completed"
    },
    "tags": []
   },
   "outputs": [],
   "source": [
    "# Aggregate credit data (e.g., delinquent counts and maximum STATUS value)\n",
    "credit_summary = credit_df.groupby('ID').agg({\n",
    "    'STATUS': lambda x: sum(int(status) for status in x if status.isdigit()),\n",
    "    'MONTHS_BALANCE': 'count'\n",
    "}).rename(columns={'STATUS': 'Delinquent_Months', 'MONTHS_BALANCE': 'Total_Months'})"
   ]
  },
  {
   "cell_type": "markdown",
   "id": "5c8cfeb7",
   "metadata": {
    "papermill": {
     "duration": 0.008834,
     "end_time": "2024-12-03T14:35:51.332348",
     "exception": false,
     "start_time": "2024-12-03T14:35:51.323514",
     "status": "completed"
    },
    "tags": []
   },
   "source": [
    "**Merge Datasets**"
   ]
  },
  {
   "cell_type": "code",
   "execution_count": 7,
   "id": "c6d73a7c",
   "metadata": {
    "execution": {
     "iopub.execute_input": "2024-12-03T14:35:51.352148Z",
     "iopub.status.busy": "2024-12-03T14:35:51.351782Z",
     "iopub.status.idle": "2024-12-03T14:35:51.414364Z",
     "shell.execute_reply": "2024-12-03T14:35:51.413345Z"
    },
    "papermill": {
     "duration": 0.075296,
     "end_time": "2024-12-03T14:35:51.416687",
     "exception": false,
     "start_time": "2024-12-03T14:35:51.341391",
     "status": "completed"
    },
    "tags": []
   },
   "outputs": [],
   "source": [
    "merged_df = pd.merge(application_df, credit_summary, on='ID', how='inner')"
   ]
  },
  {
   "cell_type": "code",
   "execution_count": 8,
   "id": "3b99cfd6",
   "metadata": {
    "execution": {
     "iopub.execute_input": "2024-12-03T14:35:51.436948Z",
     "iopub.status.busy": "2024-12-03T14:35:51.436526Z",
     "iopub.status.idle": "2024-12-03T14:35:51.453520Z",
     "shell.execute_reply": "2024-12-03T14:35:51.452479Z"
    },
    "papermill": {
     "duration": 0.029612,
     "end_time": "2024-12-03T14:35:51.455506",
     "exception": false,
     "start_time": "2024-12-03T14:35:51.425894",
     "status": "completed"
    },
    "tags": []
   },
   "outputs": [
    {
     "data": {
      "text/html": [
       "<div>\n",
       "<style scoped>\n",
       "    .dataframe tbody tr th:only-of-type {\n",
       "        vertical-align: middle;\n",
       "    }\n",
       "\n",
       "    .dataframe tbody tr th {\n",
       "        vertical-align: top;\n",
       "    }\n",
       "\n",
       "    .dataframe thead th {\n",
       "        text-align: right;\n",
       "    }\n",
       "</style>\n",
       "<table border=\"1\" class=\"dataframe\">\n",
       "  <thead>\n",
       "    <tr style=\"text-align: right;\">\n",
       "      <th></th>\n",
       "      <th>ID</th>\n",
       "      <th>CODE_GENDER</th>\n",
       "      <th>FLAG_OWN_CAR</th>\n",
       "      <th>FLAG_OWN_REALTY</th>\n",
       "      <th>CNT_CHILDREN</th>\n",
       "      <th>AMT_INCOME_TOTAL</th>\n",
       "      <th>NAME_INCOME_TYPE</th>\n",
       "      <th>NAME_EDUCATION_TYPE</th>\n",
       "      <th>NAME_FAMILY_STATUS</th>\n",
       "      <th>NAME_HOUSING_TYPE</th>\n",
       "      <th>DAYS_BIRTH</th>\n",
       "      <th>DAYS_EMPLOYED</th>\n",
       "      <th>FLAG_MOBIL</th>\n",
       "      <th>FLAG_WORK_PHONE</th>\n",
       "      <th>FLAG_PHONE</th>\n",
       "      <th>FLAG_EMAIL</th>\n",
       "      <th>OCCUPATION_TYPE</th>\n",
       "      <th>CNT_FAM_MEMBERS</th>\n",
       "      <th>Delinquent_Months</th>\n",
       "      <th>Total_Months</th>\n",
       "    </tr>\n",
       "  </thead>\n",
       "  <tbody>\n",
       "    <tr>\n",
       "      <th>0</th>\n",
       "      <td>5008804</td>\n",
       "      <td>M</td>\n",
       "      <td>Y</td>\n",
       "      <td>Y</td>\n",
       "      <td>0</td>\n",
       "      <td>427500.0</td>\n",
       "      <td>Working</td>\n",
       "      <td>Higher education</td>\n",
       "      <td>Civil marriage</td>\n",
       "      <td>Rented apartment</td>\n",
       "      <td>-12005</td>\n",
       "      <td>-4542</td>\n",
       "      <td>1</td>\n",
       "      <td>1</td>\n",
       "      <td>0</td>\n",
       "      <td>0</td>\n",
       "      <td>NaN</td>\n",
       "      <td>2.0</td>\n",
       "      <td>1</td>\n",
       "      <td>16</td>\n",
       "    </tr>\n",
       "    <tr>\n",
       "      <th>1</th>\n",
       "      <td>5008805</td>\n",
       "      <td>M</td>\n",
       "      <td>Y</td>\n",
       "      <td>Y</td>\n",
       "      <td>0</td>\n",
       "      <td>427500.0</td>\n",
       "      <td>Working</td>\n",
       "      <td>Higher education</td>\n",
       "      <td>Civil marriage</td>\n",
       "      <td>Rented apartment</td>\n",
       "      <td>-12005</td>\n",
       "      <td>-4542</td>\n",
       "      <td>1</td>\n",
       "      <td>1</td>\n",
       "      <td>0</td>\n",
       "      <td>0</td>\n",
       "      <td>NaN</td>\n",
       "      <td>2.0</td>\n",
       "      <td>1</td>\n",
       "      <td>15</td>\n",
       "    </tr>\n",
       "    <tr>\n",
       "      <th>2</th>\n",
       "      <td>5008806</td>\n",
       "      <td>M</td>\n",
       "      <td>Y</td>\n",
       "      <td>Y</td>\n",
       "      <td>0</td>\n",
       "      <td>112500.0</td>\n",
       "      <td>Working</td>\n",
       "      <td>Secondary / secondary special</td>\n",
       "      <td>Married</td>\n",
       "      <td>House / apartment</td>\n",
       "      <td>-21474</td>\n",
       "      <td>-1134</td>\n",
       "      <td>1</td>\n",
       "      <td>0</td>\n",
       "      <td>0</td>\n",
       "      <td>0</td>\n",
       "      <td>Security staff</td>\n",
       "      <td>2.0</td>\n",
       "      <td>0</td>\n",
       "      <td>30</td>\n",
       "    </tr>\n",
       "    <tr>\n",
       "      <th>3</th>\n",
       "      <td>5008808</td>\n",
       "      <td>F</td>\n",
       "      <td>N</td>\n",
       "      <td>Y</td>\n",
       "      <td>0</td>\n",
       "      <td>270000.0</td>\n",
       "      <td>Commercial associate</td>\n",
       "      <td>Secondary / secondary special</td>\n",
       "      <td>Single / not married</td>\n",
       "      <td>House / apartment</td>\n",
       "      <td>-19110</td>\n",
       "      <td>-3051</td>\n",
       "      <td>1</td>\n",
       "      <td>0</td>\n",
       "      <td>1</td>\n",
       "      <td>1</td>\n",
       "      <td>Sales staff</td>\n",
       "      <td>1.0</td>\n",
       "      <td>0</td>\n",
       "      <td>5</td>\n",
       "    </tr>\n",
       "    <tr>\n",
       "      <th>4</th>\n",
       "      <td>5008809</td>\n",
       "      <td>F</td>\n",
       "      <td>N</td>\n",
       "      <td>Y</td>\n",
       "      <td>0</td>\n",
       "      <td>270000.0</td>\n",
       "      <td>Commercial associate</td>\n",
       "      <td>Secondary / secondary special</td>\n",
       "      <td>Single / not married</td>\n",
       "      <td>House / apartment</td>\n",
       "      <td>-19110</td>\n",
       "      <td>-3051</td>\n",
       "      <td>1</td>\n",
       "      <td>0</td>\n",
       "      <td>1</td>\n",
       "      <td>1</td>\n",
       "      <td>Sales staff</td>\n",
       "      <td>1.0</td>\n",
       "      <td>0</td>\n",
       "      <td>5</td>\n",
       "    </tr>\n",
       "  </tbody>\n",
       "</table>\n",
       "</div>"
      ],
      "text/plain": [
       "        ID CODE_GENDER FLAG_OWN_CAR FLAG_OWN_REALTY  CNT_CHILDREN  \\\n",
       "0  5008804           M            Y               Y             0   \n",
       "1  5008805           M            Y               Y             0   \n",
       "2  5008806           M            Y               Y             0   \n",
       "3  5008808           F            N               Y             0   \n",
       "4  5008809           F            N               Y             0   \n",
       "\n",
       "   AMT_INCOME_TOTAL      NAME_INCOME_TYPE            NAME_EDUCATION_TYPE  \\\n",
       "0          427500.0               Working               Higher education   \n",
       "1          427500.0               Working               Higher education   \n",
       "2          112500.0               Working  Secondary / secondary special   \n",
       "3          270000.0  Commercial associate  Secondary / secondary special   \n",
       "4          270000.0  Commercial associate  Secondary / secondary special   \n",
       "\n",
       "     NAME_FAMILY_STATUS  NAME_HOUSING_TYPE  DAYS_BIRTH  DAYS_EMPLOYED  \\\n",
       "0        Civil marriage   Rented apartment      -12005          -4542   \n",
       "1        Civil marriage   Rented apartment      -12005          -4542   \n",
       "2               Married  House / apartment      -21474          -1134   \n",
       "3  Single / not married  House / apartment      -19110          -3051   \n",
       "4  Single / not married  House / apartment      -19110          -3051   \n",
       "\n",
       "   FLAG_MOBIL  FLAG_WORK_PHONE  FLAG_PHONE  FLAG_EMAIL OCCUPATION_TYPE  \\\n",
       "0           1                1           0           0             NaN   \n",
       "1           1                1           0           0             NaN   \n",
       "2           1                0           0           0  Security staff   \n",
       "3           1                0           1           1     Sales staff   \n",
       "4           1                0           1           1     Sales staff   \n",
       "\n",
       "   CNT_FAM_MEMBERS  Delinquent_Months  Total_Months  \n",
       "0              2.0                  1            16  \n",
       "1              2.0                  1            15  \n",
       "2              2.0                  0            30  \n",
       "3              1.0                  0             5  \n",
       "4              1.0                  0             5  "
      ]
     },
     "execution_count": 8,
     "metadata": {},
     "output_type": "execute_result"
    }
   ],
   "source": [
    "merged_df.head()"
   ]
  },
  {
   "cell_type": "code",
   "execution_count": 9,
   "id": "ea78e8f2",
   "metadata": {
    "execution": {
     "iopub.execute_input": "2024-12-03T14:35:51.476177Z",
     "iopub.status.busy": "2024-12-03T14:35:51.475803Z",
     "iopub.status.idle": "2024-12-03T14:35:51.482628Z",
     "shell.execute_reply": "2024-12-03T14:35:51.481628Z"
    },
    "papermill": {
     "duration": 0.019633,
     "end_time": "2024-12-03T14:35:51.484515",
     "exception": false,
     "start_time": "2024-12-03T14:35:51.464882",
     "status": "completed"
    },
    "tags": []
   },
   "outputs": [
    {
     "data": {
      "text/plain": [
       "Index(['ID', 'CODE_GENDER', 'FLAG_OWN_CAR', 'FLAG_OWN_REALTY', 'CNT_CHILDREN',\n",
       "       'AMT_INCOME_TOTAL', 'NAME_INCOME_TYPE', 'NAME_EDUCATION_TYPE',\n",
       "       'NAME_FAMILY_STATUS', 'NAME_HOUSING_TYPE', 'DAYS_BIRTH',\n",
       "       'DAYS_EMPLOYED', 'FLAG_MOBIL', 'FLAG_WORK_PHONE', 'FLAG_PHONE',\n",
       "       'FLAG_EMAIL', 'OCCUPATION_TYPE', 'CNT_FAM_MEMBERS', 'Delinquent_Months',\n",
       "       'Total_Months'],\n",
       "      dtype='object')"
      ]
     },
     "execution_count": 9,
     "metadata": {},
     "output_type": "execute_result"
    }
   ],
   "source": [
    "merged_df.columns"
   ]
  },
  {
   "cell_type": "code",
   "execution_count": 10,
   "id": "250385ca",
   "metadata": {
    "execution": {
     "iopub.execute_input": "2024-12-03T14:35:51.504922Z",
     "iopub.status.busy": "2024-12-03T14:35:51.504506Z",
     "iopub.status.idle": "2024-12-03T14:35:51.536125Z",
     "shell.execute_reply": "2024-12-03T14:35:51.535176Z"
    },
    "papermill": {
     "duration": 0.044315,
     "end_time": "2024-12-03T14:35:51.538329",
     "exception": false,
     "start_time": "2024-12-03T14:35:51.494014",
     "status": "completed"
    },
    "tags": []
   },
   "outputs": [
    {
     "name": "stdout",
     "output_type": "stream",
     "text": [
      "<class 'pandas.core.frame.DataFrame'>\n",
      "RangeIndex: 36457 entries, 0 to 36456\n",
      "Data columns (total 20 columns):\n",
      " #   Column               Non-Null Count  Dtype  \n",
      "---  ------               --------------  -----  \n",
      " 0   ID                   36457 non-null  int64  \n",
      " 1   CODE_GENDER          36457 non-null  object \n",
      " 2   FLAG_OWN_CAR         36457 non-null  object \n",
      " 3   FLAG_OWN_REALTY      36457 non-null  object \n",
      " 4   CNT_CHILDREN         36457 non-null  int64  \n",
      " 5   AMT_INCOME_TOTAL     36457 non-null  float64\n",
      " 6   NAME_INCOME_TYPE     36457 non-null  object \n",
      " 7   NAME_EDUCATION_TYPE  36457 non-null  object \n",
      " 8   NAME_FAMILY_STATUS   36457 non-null  object \n",
      " 9   NAME_HOUSING_TYPE    36457 non-null  object \n",
      " 10  DAYS_BIRTH           36457 non-null  int64  \n",
      " 11  DAYS_EMPLOYED        36457 non-null  int64  \n",
      " 12  FLAG_MOBIL           36457 non-null  int64  \n",
      " 13  FLAG_WORK_PHONE      36457 non-null  int64  \n",
      " 14  FLAG_PHONE           36457 non-null  int64  \n",
      " 15  FLAG_EMAIL           36457 non-null  int64  \n",
      " 16  OCCUPATION_TYPE      25134 non-null  object \n",
      " 17  CNT_FAM_MEMBERS      36457 non-null  float64\n",
      " 18  Delinquent_Months    36457 non-null  int64  \n",
      " 19  Total_Months         36457 non-null  int64  \n",
      "dtypes: float64(2), int64(10), object(8)\n",
      "memory usage: 5.6+ MB\n"
     ]
    }
   ],
   "source": [
    "merged_df.info()"
   ]
  },
  {
   "cell_type": "code",
   "execution_count": 11,
   "id": "a77561b1",
   "metadata": {
    "execution": {
     "iopub.execute_input": "2024-12-03T14:35:51.559126Z",
     "iopub.status.busy": "2024-12-03T14:35:51.558783Z",
     "iopub.status.idle": "2024-12-03T14:35:51.565735Z",
     "shell.execute_reply": "2024-12-03T14:35:51.564701Z"
    },
    "papermill": {
     "duration": 0.019725,
     "end_time": "2024-12-03T14:35:51.567671",
     "exception": false,
     "start_time": "2024-12-03T14:35:51.547946",
     "status": "completed"
    },
    "tags": []
   },
   "outputs": [
    {
     "data": {
      "text/plain": [
       "(36457, 20)"
      ]
     },
     "execution_count": 11,
     "metadata": {},
     "output_type": "execute_result"
    }
   ],
   "source": [
    "merged_df.shape"
   ]
  },
  {
   "cell_type": "markdown",
   "id": "ac56f8e4",
   "metadata": {
    "papermill": {
     "duration": 0.009671,
     "end_time": "2024-12-03T14:35:51.587048",
     "exception": false,
     "start_time": "2024-12-03T14:35:51.577377",
     "status": "completed"
    },
    "tags": []
   },
   "source": [
    "# Check Missing Values"
   ]
  },
  {
   "cell_type": "code",
   "execution_count": 12,
   "id": "0b5b43ae",
   "metadata": {
    "execution": {
     "iopub.execute_input": "2024-12-03T14:35:51.607876Z",
     "iopub.status.busy": "2024-12-03T14:35:51.607465Z",
     "iopub.status.idle": "2024-12-03T14:35:51.629877Z",
     "shell.execute_reply": "2024-12-03T14:35:51.628712Z"
    },
    "papermill": {
     "duration": 0.035294,
     "end_time": "2024-12-03T14:35:51.632128",
     "exception": false,
     "start_time": "2024-12-03T14:35:51.596834",
     "status": "completed"
    },
    "tags": []
   },
   "outputs": [
    {
     "name": "stdout",
     "output_type": "stream",
     "text": [
      "Missing Values:\n",
      " OCCUPATION_TYPE    11323\n",
      "dtype: int64\n"
     ]
    }
   ],
   "source": [
    "missing_values = merged_df.isnull().sum()\n",
    "print(\"Missing Values:\\n\", missing_values[missing_values > 0])"
   ]
  },
  {
   "cell_type": "markdown",
   "id": "c14c87a9",
   "metadata": {
    "papermill": {
     "duration": 0.009234,
     "end_time": "2024-12-03T14:35:51.651125",
     "exception": false,
     "start_time": "2024-12-03T14:35:51.641891",
     "status": "completed"
    },
    "tags": []
   },
   "source": [
    "**Plot Missing Values**"
   ]
  },
  {
   "cell_type": "code",
   "execution_count": 13,
   "id": "e49f81aa",
   "metadata": {
    "execution": {
     "iopub.execute_input": "2024-12-03T14:35:51.672206Z",
     "iopub.status.busy": "2024-12-03T14:35:51.671362Z",
     "iopub.status.idle": "2024-12-03T14:35:51.928973Z",
     "shell.execute_reply": "2024-12-03T14:35:51.927760Z"
    },
    "papermill": {
     "duration": 0.270371,
     "end_time": "2024-12-03T14:35:51.931057",
     "exception": false,
     "start_time": "2024-12-03T14:35:51.660686",
     "status": "completed"
    },
    "tags": []
   },
   "outputs": [
    {
     "data": {
      "image/png": "[encoded data removed]",
      "text/plain": [
       "<Figure size 600x600 with 1 Axes>"
      ]
     },
     "metadata": {},
     "output_type": "display_data"
    }
   ],
   "source": [
    "missing_values[missing_values > 0].sort_values(ascending=False).plot(kind='bar', figsize=(6, 6), color='skyblue')\n",
    "plt.title(\"Missing Values by Feature\")\n",
    "plt.ylabel(\"Count\")\n",
    "plt.show()"
   ]
  },
  {
   "cell_type": "code",
   "execution_count": 14,
   "id": "2487868a",
   "metadata": {
    "execution": {
     "iopub.execute_input": "2024-12-03T14:35:51.953007Z",
     "iopub.status.busy": "2024-12-03T14:35:51.952296Z",
     "iopub.status.idle": "2024-12-03T14:35:51.960280Z",
     "shell.execute_reply": "2024-12-03T14:35:51.959188Z"
    },
    "papermill": {
     "duration": 0.02119,
     "end_time": "2024-12-03T14:35:51.962259",
     "exception": false,
     "start_time": "2024-12-03T14:35:51.941069",
     "status": "completed"
    },
    "tags": []
   },
   "outputs": [
    {
     "data": {
      "text/plain": [
       "0                   NaN\n",
       "1                   NaN\n",
       "2        Security staff\n",
       "3           Sales staff\n",
       "4           Sales staff\n",
       "              ...      \n",
       "36452          Managers\n",
       "36453    Medicine staff\n",
       "36454    Medicine staff\n",
       "36455       Sales staff\n",
       "36456          Laborers\n",
       "Name: OCCUPATION_TYPE, Length: 36457, dtype: object"
      ]
     },
     "execution_count": 14,
     "metadata": {},
     "output_type": "execute_result"
    }
   ],
   "source": [
    "merged_df['OCCUPATION_TYPE']"
   ]
  },
  {
   "cell_type": "code",
   "execution_count": 15,
   "id": "dd6a43ec",
   "metadata": {
    "execution": {
     "iopub.execute_input": "2024-12-03T14:35:51.983812Z",
     "iopub.status.busy": "2024-12-03T14:35:51.983341Z",
     "iopub.status.idle": "2024-12-03T14:35:52.017476Z",
     "shell.execute_reply": "2024-12-03T14:35:52.016434Z"
    },
    "papermill": {
     "duration": 0.047423,
     "end_time": "2024-12-03T14:35:52.019632",
     "exception": false,
     "start_time": "2024-12-03T14:35:51.972209",
     "status": "completed"
    },
    "tags": []
   },
   "outputs": [
    {
     "data": {
      "text/plain": [
       "0"
      ]
     },
     "execution_count": 15,
     "metadata": {},
     "output_type": "execute_result"
    }
   ],
   "source": [
    "merged_df.duplicated().sum()"
   ]
  },
  {
   "cell_type": "markdown",
   "id": "2a54b453",
   "metadata": {
    "papermill": {
     "duration": 0.009783,
     "end_time": "2024-12-03T14:35:52.039891",
     "exception": false,
     "start_time": "2024-12-03T14:35:52.030108",
     "status": "completed"
    },
    "tags": []
   },
   "source": [
    "# Feature Engineering"
   ]
  },
  {
   "cell_type": "code",
   "execution_count": 16,
   "id": "4ba84ae2",
   "metadata": {
    "execution": {
     "iopub.execute_input": "2024-12-03T14:35:52.062241Z",
     "iopub.status.busy": "2024-12-03T14:35:52.061119Z",
     "iopub.status.idle": "2024-12-03T14:35:52.079673Z",
     "shell.execute_reply": "2024-12-03T14:35:52.078637Z"
    },
    "papermill": {
     "duration": 0.032303,
     "end_time": "2024-12-03T14:35:52.082109",
     "exception": false,
     "start_time": "2024-12-03T14:35:52.049806",
     "status": "completed"
    },
    "tags": []
   },
   "outputs": [],
   "source": [
    "merged_df['Target'] = (merged_df['Delinquent_Months'] > 0).astype(int)\n",
    "\n",
    "# Remove features with leakage\n",
    "merged_df.drop(['Delinquent_Months', 'Total_Months'], axis=1, inplace=True)\n",
    "\n",
    "# Retain `Target` and perform feature engineering\n",
    "merged_df['Age'] = -merged_df['DAYS_BIRTH'] // 365\n",
    "merged_df['Employment_Length'] = -merged_df['DAYS_EMPLOYED']\n",
    "merged_df['Income_Per_Family_Member'] = merged_df['AMT_INCOME_TOTAL'] / merged_df['CNT_FAM_MEMBERS']\n",
    "\n",
    "# Drop unnecessary columns\n",
    "merged_df.drop(['ID', 'DAYS_BIRTH', 'DAYS_EMPLOYED'], axis=1, inplace=True)\n"
   ]
  },
  {
   "cell_type": "code",
   "execution_count": 17,
   "id": "165731d3",
   "metadata": {
    "execution": {
     "iopub.execute_input": "2024-12-03T14:35:52.104998Z",
     "iopub.status.busy": "2024-12-03T14:35:52.104603Z",
     "iopub.status.idle": "2024-12-03T14:35:52.111228Z",
     "shell.execute_reply": "2024-12-03T14:35:52.110256Z"
    },
    "papermill": {
     "duration": 0.020448,
     "end_time": "2024-12-03T14:35:52.113270",
     "exception": false,
     "start_time": "2024-12-03T14:35:52.092822",
     "status": "completed"
    },
    "tags": []
   },
   "outputs": [
    {
     "data": {
      "text/plain": [
       "Index(['CODE_GENDER', 'FLAG_OWN_CAR', 'FLAG_OWN_REALTY', 'CNT_CHILDREN',\n",
       "       'AMT_INCOME_TOTAL', 'NAME_INCOME_TYPE', 'NAME_EDUCATION_TYPE',\n",
       "       'NAME_FAMILY_STATUS', 'NAME_HOUSING_TYPE', 'FLAG_MOBIL',\n",
       "       'FLAG_WORK_PHONE', 'FLAG_PHONE', 'FLAG_EMAIL', 'OCCUPATION_TYPE',\n",
       "       'CNT_FAM_MEMBERS', 'Target', 'Age', 'Employment_Length',\n",
       "       'Income_Per_Family_Member'],\n",
       "      dtype='object')"
      ]
     },
     "execution_count": 17,
     "metadata": {},
     "output_type": "execute_result"
    }
   ],
   "source": [
    "merged_df.columns"
   ]
  },
  {
   "cell_type": "markdown",
   "id": "a17ad2cd",
   "metadata": {
    "papermill": {
     "duration": 0.009973,
     "end_time": "2024-12-03T14:35:52.133678",
     "exception": false,
     "start_time": "2024-12-03T14:35:52.123705",
     "status": "completed"
    },
    "tags": []
   },
   "source": [
    "# Encode Categorical Features"
   ]
  },
  {
   "cell_type": "code",
   "execution_count": 18,
   "id": "d101a835",
   "metadata": {
    "execution": {
     "iopub.execute_input": "2024-12-03T14:35:52.156623Z",
     "iopub.status.busy": "2024-12-03T14:35:52.155393Z",
     "iopub.status.idle": "2024-12-03T14:35:52.219892Z",
     "shell.execute_reply": "2024-12-03T14:35:52.218767Z"
    },
    "papermill": {
     "duration": 0.078234,
     "end_time": "2024-12-03T14:35:52.222257",
     "exception": false,
     "start_time": "2024-12-03T14:35:52.144023",
     "status": "completed"
    },
    "tags": []
   },
   "outputs": [],
   "source": [
    "# Encode categorical variables\n",
    "categorical_cols = ['CODE_GENDER', 'FLAG_OWN_CAR', 'FLAG_OWN_REALTY', \n",
    "                    'NAME_INCOME_TYPE', 'NAME_EDUCATION_TYPE', \n",
    "                    'NAME_FAMILY_STATUS', 'NAME_HOUSING_TYPE', 'OCCUPATION_TYPE']\n",
    "\n",
    "label_encoders = {}\n",
    "for col in categorical_cols:\n",
    "    le = LabelEncoder()\n",
    "    merged_df[col] = le.fit_transform(merged_df[col].astype(str))\n",
    "    label_encoders[col] = le\n"
   ]
  },
  {
   "cell_type": "code",
   "execution_count": 19,
   "id": "2e72774e",
   "metadata": {
    "execution": {
     "iopub.execute_input": "2024-12-03T14:35:52.244757Z",
     "iopub.status.busy": "2024-12-03T14:35:52.244401Z",
     "iopub.status.idle": "2024-12-03T14:35:52.253616Z",
     "shell.execute_reply": "2024-12-03T14:35:52.252551Z"
    },
    "papermill": {
     "duration": 0.022817,
     "end_time": "2024-12-03T14:35:52.255544",
     "exception": false,
     "start_time": "2024-12-03T14:35:52.232727",
     "status": "completed"
    },
    "tags": []
   },
   "outputs": [
    {
     "data": {
      "text/plain": [
       "CODE_GENDER                 0\n",
       "FLAG_OWN_CAR                0\n",
       "FLAG_OWN_REALTY             0\n",
       "CNT_CHILDREN                0\n",
       "AMT_INCOME_TOTAL            0\n",
       "NAME_INCOME_TYPE            0\n",
       "NAME_EDUCATION_TYPE         0\n",
       "NAME_FAMILY_STATUS          0\n",
       "NAME_HOUSING_TYPE           0\n",
       "FLAG_MOBIL                  0\n",
       "FLAG_WORK_PHONE             0\n",
       "FLAG_PHONE                  0\n",
       "FLAG_EMAIL                  0\n",
       "OCCUPATION_TYPE             0\n",
       "CNT_FAM_MEMBERS             0\n",
       "Target                      0\n",
       "Age                         0\n",
       "Employment_Length           0\n",
       "Income_Per_Family_Member    0\n",
       "dtype: int64"
      ]
     },
     "execution_count": 19,
     "metadata": {},
     "output_type": "execute_result"
    }
   ],
   "source": [
    "merged_df.isnull().sum()"
   ]
  },
  {
   "cell_type": "markdown",
   "id": "f005407c",
   "metadata": {
    "papermill": {
     "duration": 0.010308,
     "end_time": "2024-12-03T14:35:52.276422",
     "exception": false,
     "start_time": "2024-12-03T14:35:52.266114",
     "status": "completed"
    },
    "tags": []
   },
   "source": [
    "# Check for Outliers"
   ]
  },
  {
   "cell_type": "markdown",
   "id": "2b781bf5",
   "metadata": {
    "papermill": {
     "duration": 0.010268,
     "end_time": "2024-12-03T14:35:52.297290",
     "exception": false,
     "start_time": "2024-12-03T14:35:52.287022",
     "status": "completed"
    },
    "tags": []
   },
   "source": [
    "**IQR (Interquartile Range)**"
   ]
  },
  {
   "cell_type": "code",
   "execution_count": 20,
   "id": "1ccd0a38",
   "metadata": {
    "execution": {
     "iopub.execute_input": "2024-12-03T14:35:52.319903Z",
     "iopub.status.busy": "2024-12-03T14:35:52.319467Z",
     "iopub.status.idle": "2024-12-03T14:35:52.333727Z",
     "shell.execute_reply": "2024-12-03T14:35:52.332510Z"
    },
    "papermill": {
     "duration": 0.028182,
     "end_time": "2024-12-03T14:35:52.335945",
     "exception": false,
     "start_time": "2024-12-03T14:35:52.307763",
     "status": "completed"
    },
    "tags": []
   },
   "outputs": [
    {
     "name": "stdout",
     "output_type": "stream",
     "text": [
      "Income_Outlier\n",
      "False    34928\n",
      "True      1529\n",
      "Name: count, dtype: int64\n"
     ]
    }
   ],
   "source": [
    "Q1 = merged_df['AMT_INCOME_TOTAL'].quantile(0.25)\n",
    "Q3 = merged_df['AMT_INCOME_TOTAL'].quantile(0.75)\n",
    "IQR = Q3 - Q1\n",
    "\n",
    "lower_bound = Q1 - 1.5 * IQR\n",
    "upper_bound = Q3 + 1.5 * IQR\n",
    "\n",
    "# Flag outliers\n",
    "merged_df['Income_Outlier'] = (merged_df['AMT_INCOME_TOTAL'] < lower_bound) | (merged_df['AMT_INCOME_TOTAL'] > upper_bound)\n",
    "print(merged_df['Income_Outlier'].value_counts())"
   ]
  },
  {
   "cell_type": "markdown",
   "id": "05598227",
   "metadata": {
    "papermill": {
     "duration": 0.010172,
     "end_time": "2024-12-03T14:35:52.357002",
     "exception": false,
     "start_time": "2024-12-03T14:35:52.346830",
     "status": "completed"
    },
    "tags": []
   },
   "source": [
    "# Visualization"
   ]
  },
  {
   "cell_type": "code",
   "execution_count": 21,
   "id": "516929e2",
   "metadata": {
    "execution": {
     "iopub.execute_input": "2024-12-03T14:35:52.379641Z",
     "iopub.status.busy": "2024-12-03T14:35:52.379207Z",
     "iopub.status.idle": "2024-12-03T14:35:52.585397Z",
     "shell.execute_reply": "2024-12-03T14:35:52.584400Z"
    },
    "papermill": {
     "duration": 0.22034,
     "end_time": "2024-12-03T14:35:52.587852",
     "exception": false,
     "start_time": "2024-12-03T14:35:52.367512",
     "status": "completed"
    },
    "tags": []
   },
   "outputs": [
    {
     "data": {
      "image/png": "[encoded data removed]",
      "text/plain": [
       "<Figure size 800x600 with 1 Axes>"
      ]
     },
     "metadata": {},
     "output_type": "display_data"
    }
   ],
   "source": [
    "plt.figure(figsize=(8, 6))\n",
    "sns.boxplot(x=merged_df['AMT_INCOME_TOTAL'])\n",
    "plt.title(\"Box Plot of Income\")\n",
    "plt.show()"
   ]
  },
  {
   "cell_type": "code",
   "execution_count": 22,
   "id": "1d363ee1",
   "metadata": {
    "execution": {
     "iopub.execute_input": "2024-12-03T14:35:52.612394Z",
     "iopub.status.busy": "2024-12-03T14:35:52.611482Z",
     "iopub.status.idle": "2024-12-03T14:35:52.881698Z",
     "shell.execute_reply": "2024-12-03T14:35:52.880561Z"
    },
    "papermill": {
     "duration": 0.284149,
     "end_time": "2024-12-03T14:35:52.883803",
     "exception": false,
     "start_time": "2024-12-03T14:35:52.599654",
     "status": "completed"
    },
    "tags": []
   },
   "outputs": [
    {
     "data": {
      "image/png": "[encoded data removed]",
      "text/plain": [
       "<Figure size 800x600 with 1 Axes>"
      ]
     },
     "metadata": {},
     "output_type": "display_data"
    }
   ],
   "source": [
    "merged_df['AMT_INCOME_TOTAL'].hist(bins=50, figsize=(8, 6))\n",
    "plt.title(\"Histogram of Income\")\n",
    "plt.xlabel(\"Income\")\n",
    "plt.ylabel(\"Frequency\")\n",
    "plt.show()"
   ]
  },
  {
   "cell_type": "code",
   "execution_count": 23,
   "id": "a16d7072",
   "metadata": {
    "execution": {
     "iopub.execute_input": "2024-12-03T14:35:52.907949Z",
     "iopub.status.busy": "2024-12-03T14:35:52.907528Z",
     "iopub.status.idle": "2024-12-03T14:35:53.217978Z",
     "shell.execute_reply": "2024-12-03T14:35:53.216951Z"
    },
    "papermill": {
     "duration": 0.325699,
     "end_time": "2024-12-03T14:35:53.220814",
     "exception": false,
     "start_time": "2024-12-03T14:35:52.895115",
     "status": "completed"
    },
    "tags": []
   },
   "outputs": [
    {
     "data": {
      "image/png": "[encoded data removed]",
      "text/plain": [
       "<Figure size 800x600 with 1 Axes>"
      ]
     },
     "metadata": {},
     "output_type": "display_data"
    }
   ],
   "source": [
    "plt.figure(figsize=(8, 6))\n",
    "sns.scatterplot(x=merged_df['Age'], y=merged_df['AMT_INCOME_TOTAL'])\n",
    "plt.title(\"Scatter Plot of Age vs Income\")\n",
    "plt.show()"
   ]
  },
  {
   "cell_type": "markdown",
   "id": "e199d77a",
   "metadata": {
    "papermill": {
     "duration": 0.012152,
     "end_time": "2024-12-03T14:35:53.245946",
     "exception": false,
     "start_time": "2024-12-03T14:35:53.233794",
     "status": "completed"
    },
    "tags": []
   },
   "source": [
    "# Handle Outliers"
   ]
  },
  {
   "cell_type": "code",
   "execution_count": 24,
   "id": "61547508",
   "metadata": {
    "execution": {
     "iopub.execute_input": "2024-12-03T14:35:53.272041Z",
     "iopub.status.busy": "2024-12-03T14:35:53.271660Z",
     "iopub.status.idle": "2024-12-03T14:35:53.278917Z",
     "shell.execute_reply": "2024-12-03T14:35:53.277902Z"
    },
    "papermill": {
     "duration": 0.022728,
     "end_time": "2024-12-03T14:35:53.280928",
     "exception": false,
     "start_time": "2024-12-03T14:35:53.258200",
     "status": "completed"
    },
    "tags": []
   },
   "outputs": [],
   "source": [
    "#Replace outliers with the nearest valid boundary\n",
    "merged_df['AMT_INCOME_TOTAL'] = np.where(\n",
    "    merged_df['AMT_INCOME_TOTAL'] > upper_bound, upper_bound,\n",
    "    np.where(merged_df['AMT_INCOME_TOTAL'] < lower_bound, lower_bound, merged_df['AMT_INCOME_TOTAL'])\n",
    ")"
   ]
  },
  {
   "cell_type": "code",
   "execution_count": 25,
   "id": "a77914c2",
   "metadata": {
    "execution": {
     "iopub.execute_input": "2024-12-03T14:35:53.306998Z",
     "iopub.status.busy": "2024-12-03T14:35:53.306589Z",
     "iopub.status.idle": "2024-12-03T14:35:53.499443Z",
     "shell.execute_reply": "2024-12-03T14:35:53.498364Z"
    },
    "papermill": {
     "duration": 0.208545,
     "end_time": "2024-12-03T14:35:53.501632",
     "exception": false,
     "start_time": "2024-12-03T14:35:53.293087",
     "status": "completed"
    },
    "tags": []
   },
   "outputs": [
    {
     "data": {
      "image/png": "[encoded data removed]",
      "text/plain": [
       "<Figure size 800x600 with 1 Axes>"
      ]
     },
     "metadata": {},
     "output_type": "display_data"
    }
   ],
   "source": [
    "plt.figure(figsize=(8, 6))\n",
    "sns.boxplot(x=merged_df['AMT_INCOME_TOTAL'])\n",
    "plt.title(\"Box Plot of Income\")\n",
    "plt.show()"
   ]
  },
  {
   "cell_type": "code",
   "execution_count": 26,
   "id": "b5676e18",
   "metadata": {
    "execution": {
     "iopub.execute_input": "2024-12-03T14:35:53.528975Z",
     "iopub.status.busy": "2024-12-03T14:35:53.528613Z",
     "iopub.status.idle": "2024-12-03T14:35:53.859128Z",
     "shell.execute_reply": "2024-12-03T14:35:53.858115Z"
    },
    "papermill": {
     "duration": 0.347376,
     "end_time": "2024-12-03T14:35:53.861637",
     "exception": false,
     "start_time": "2024-12-03T14:35:53.514261",
     "status": "completed"
    },
    "tags": []
   },
   "outputs": [
    {
     "data": {
      "image/png": "[encoded data removed]",
      "text/plain": [
       "<Figure size 800x600 with 1 Axes>"
      ]
     },
     "metadata": {},
     "output_type": "display_data"
    }
   ],
   "source": [
    "merged_df['AMT_INCOME_TOTAL'].hist(bins=50, figsize=(8, 6))\n",
    "plt.title(\"Histogram of Income\")\n",
    "plt.xlabel(\"Income\")\n",
    "plt.ylabel(\"Frequency\")\n",
    "plt.show()"
   ]
  },
  {
   "cell_type": "code",
   "execution_count": 27,
   "id": "d18616f8",
   "metadata": {
    "execution": {
     "iopub.execute_input": "2024-12-03T14:35:53.889751Z",
     "iopub.status.busy": "2024-12-03T14:35:53.889349Z",
     "iopub.status.idle": "2024-12-03T14:35:54.174302Z",
     "shell.execute_reply": "2024-12-03T14:35:54.173218Z"
    },
    "papermill": {
     "duration": 0.30175,
     "end_time": "2024-12-03T14:35:54.176435",
     "exception": false,
     "start_time": "2024-12-03T14:35:53.874685",
     "status": "completed"
    },
    "tags": []
   },
   "outputs": [
    {
     "data": {
      "image/png": "[encoded data removed]",
      "text/plain": [
       "<Figure size 800x600 with 1 Axes>"
      ]
     },
     "metadata": {},
     "output_type": "display_data"
    }
   ],
   "source": [
    "plt.figure(figsize=(8, 6))\n",
    "sns.scatterplot(x=merged_df['Age'], y=merged_df['AMT_INCOME_TOTAL'])\n",
    "plt.title(\"Scatter Plot of Age vs Income\")\n",
    "plt.show()"
   ]
  },
  {
   "cell_type": "markdown",
   "id": "2c27ccc1",
   "metadata": {
    "papermill": {
     "duration": 0.014276,
     "end_time": "2024-12-03T14:35:54.205480",
     "exception": false,
     "start_time": "2024-12-03T14:35:54.191204",
     "status": "completed"
    },
    "tags": []
   },
   "source": [
    "# Standardize Features and Splitting Data"
   ]
  },
  {
   "cell_type": "code",
   "execution_count": 28,
   "id": "2a94f65d",
   "metadata": {
    "execution": {
     "iopub.execute_input": "2024-12-03T14:35:54.236321Z",
     "iopub.status.busy": "2024-12-03T14:35:54.235396Z",
     "iopub.status.idle": "2024-12-03T14:35:54.284983Z",
     "shell.execute_reply": "2024-12-03T14:35:54.283901Z"
    },
    "papermill": {
     "duration": 0.067986,
     "end_time": "2024-12-03T14:35:54.287849",
     "exception": false,
     "start_time": "2024-12-03T14:35:54.219863",
     "status": "completed"
    },
    "tags": []
   },
   "outputs": [],
   "source": [
    "#Declare feature vector and target variable\n",
    "X = merged_df.drop('Target', axis=1)\n",
    "y = merged_df['Target']\n",
    "\n",
    "X_train, X_test, y_train, y_test = train_test_split(X, y, test_size=0.3, random_state=42)\n",
    "\n",
    "sc = StandardScaler()\n",
    "X_train = sc.fit_transform(X_train)\n",
    "X_test = sc.transform(X_test)"
   ]
  },
  {
   "cell_type": "code",
   "execution_count": 29,
   "id": "4247c299",
   "metadata": {
    "execution": {
     "iopub.execute_input": "2024-12-03T14:35:54.319042Z",
     "iopub.status.busy": "2024-12-03T14:35:54.318257Z",
     "iopub.status.idle": "2024-12-03T14:35:54.323943Z",
     "shell.execute_reply": "2024-12-03T14:35:54.322875Z"
    },
    "papermill": {
     "duration": 0.023717,
     "end_time": "2024-12-03T14:35:54.326150",
     "exception": false,
     "start_time": "2024-12-03T14:35:54.302433",
     "status": "completed"
    },
    "tags": []
   },
   "outputs": [
    {
     "name": "stdout",
     "output_type": "stream",
     "text": [
      "(25519, 19)\n",
      "(10938, 19)\n",
      "(25519,)\n",
      "(10938,)\n"
     ]
    }
   ],
   "source": [
    "print(X_train.shape)\n",
    "print(X_test.shape)\n",
    "print(y_train.shape)\n",
    "print(y_test.shape)"
   ]
  },
  {
   "cell_type": "markdown",
   "id": "76d41f53",
   "metadata": {
    "papermill": {
     "duration": 0.013893,
     "end_time": "2024-12-03T14:35:54.354722",
     "exception": false,
     "start_time": "2024-12-03T14:35:54.340829",
     "status": "completed"
    },
    "tags": []
   },
   "source": [
    "# Handle Class Imbalance"
   ]
  },
  {
   "cell_type": "code",
   "execution_count": 30,
   "id": "4aa061bf",
   "metadata": {
    "execution": {
     "iopub.execute_input": "2024-12-03T14:35:54.385643Z",
     "iopub.status.busy": "2024-12-03T14:35:54.384507Z",
     "iopub.status.idle": "2024-12-03T14:35:54.621448Z",
     "shell.execute_reply": "2024-12-03T14:35:54.620639Z"
    },
    "papermill": {
     "duration": 0.255124,
     "end_time": "2024-12-03T14:35:54.624136",
     "exception": false,
     "start_time": "2024-12-03T14:35:54.369012",
     "status": "completed"
    },
    "tags": []
   },
   "outputs": [],
   "source": [
    "from imblearn.over_sampling import SMOTE\n",
    "\n",
    "smote = SMOTE(random_state=42)\n",
    "X_smote, y_smote = smote.fit_resample(X_train, y_train)"
   ]
  },
  {
   "cell_type": "markdown",
   "id": "13981460",
   "metadata": {
    "papermill": {
     "duration": 0.014566,
     "end_time": "2024-12-03T14:35:54.654388",
     "exception": false,
     "start_time": "2024-12-03T14:35:54.639822",
     "status": "completed"
    },
    "tags": []
   },
   "source": [
    "# Train a Gradient Boosting Classifier"
   ]
  },
  {
   "cell_type": "code",
   "execution_count": 31,
   "id": "3dba0dc9",
   "metadata": {
    "execution": {
     "iopub.execute_input": "2024-12-03T14:35:54.685131Z",
     "iopub.status.busy": "2024-12-03T14:35:54.684560Z",
     "iopub.status.idle": "2024-12-03T14:35:57.681241Z",
     "shell.execute_reply": "2024-12-03T14:35:57.680357Z"
    },
    "papermill": {
     "duration": 3.014806,
     "end_time": "2024-12-03T14:35:57.683613",
     "exception": false,
     "start_time": "2024-12-03T14:35:54.668807",
     "status": "completed"
    },
    "tags": []
   },
   "outputs": [],
   "source": [
    "#Train the model\n",
    "gb_model = GradientBoostingClassifier(random_state=42)\n",
    "gb_model.fit(X_train, y_train)\n",
    "#Predict on test set\n",
    "gb_pred = gb_model.predict(X_test)\n",
    "gb_pred_proba = gb_model.predict_proba(X_test)[:, 1]"
   ]
  },
  {
   "cell_type": "markdown",
   "id": "be83e3f4",
   "metadata": {
    "papermill": {
     "duration": 0.014166,
     "end_time": "2024-12-03T14:35:57.712296",
     "exception": false,
     "start_time": "2024-12-03T14:35:57.698130",
     "status": "completed"
    },
    "tags": []
   },
   "source": [
    "# Evaluate Gradient Boosting model"
   ]
  },
  {
   "cell_type": "code",
   "execution_count": 32,
   "id": "1d5b78e6",
   "metadata": {
    "execution": {
     "iopub.execute_input": "2024-12-03T14:35:57.745008Z",
     "iopub.status.busy": "2024-12-03T14:35:57.744651Z",
     "iopub.status.idle": "2024-12-03T14:35:57.779253Z",
     "shell.execute_reply": "2024-12-03T14:35:57.777973Z"
    },
    "papermill": {
     "duration": 0.054755,
     "end_time": "2024-12-03T14:35:57.781505",
     "exception": false,
     "start_time": "2024-12-03T14:35:57.726750",
     "status": "completed"
    },
    "tags": []
   },
   "outputs": [
    {
     "name": "stdout",
     "output_type": "stream",
     "text": [
      "GradientBoosting Model Accuracy Score: 87.83%\n",
      "ROC AUC Score: 0.5948343778388205\n",
      "Classification Report:\n",
      "               precision    recall  f1-score   support\n",
      "\n",
      "           0       0.88      1.00      0.94      9601\n",
      "           1       0.75      0.01      0.01      1337\n",
      "\n",
      "    accuracy                           0.88     10938\n",
      "   macro avg       0.81      0.50      0.47     10938\n",
      "weighted avg       0.86      0.88      0.82     10938\n",
      "\n"
     ]
    }
   ],
   "source": [
    "print('GradientBoosting Model Accuracy Score: {0:0.2f}'. format(accuracy_score(y_test, gb_pred)*100)+ \"%\")\n",
    "print(\"ROC AUC Score:\", roc_auc_score(y_test, gb_pred_proba))\n",
    "print(\"Classification Report:\\n\", classification_report(y_test, gb_pred))"
   ]
  },
  {
   "cell_type": "markdown",
   "id": "a5d59d49",
   "metadata": {
    "papermill": {
     "duration": 0.014439,
     "end_time": "2024-12-03T14:35:57.810548",
     "exception": false,
     "start_time": "2024-12-03T14:35:57.796109",
     "status": "completed"
    },
    "tags": []
   },
   "source": [
    "# Train a XGBoost Classifier"
   ]
  },
  {
   "cell_type": "code",
   "execution_count": 33,
   "id": "630ccb2d",
   "metadata": {
    "execution": {
     "iopub.execute_input": "2024-12-03T14:35:57.842146Z",
     "iopub.status.busy": "2024-12-03T14:35:57.841223Z",
     "iopub.status.idle": "2024-12-03T14:35:58.125625Z",
     "shell.execute_reply": "2024-12-03T14:35:58.124741Z"
    },
    "papermill": {
     "duration": 0.303128,
     "end_time": "2024-12-03T14:35:58.128293",
     "exception": false,
     "start_time": "2024-12-03T14:35:57.825165",
     "status": "completed"
    },
    "tags": []
   },
   "outputs": [],
   "source": [
    "#Train the model\n",
    "xgb_model = xgb.XGBClassifier()\n",
    "xgb_model.fit(X_train, y_train)\n",
    "#Predict on test set\n",
    "xgb_pred = xgb_model.predict(X_test)\n",
    "xgb_pred_proba = xgb_model.predict_proba(X_test)[:, 1]"
   ]
  },
  {
   "cell_type": "markdown",
   "id": "de8e356e",
   "metadata": {
    "papermill": {
     "duration": 0.014238,
     "end_time": "2024-12-03T14:35:58.160097",
     "exception": false,
     "start_time": "2024-12-03T14:35:58.145859",
     "status": "completed"
    },
    "tags": []
   },
   "source": [
    "# Evaluate XGBoost model"
   ]
  },
  {
   "cell_type": "code",
   "execution_count": 34,
   "id": "a57afab0",
   "metadata": {
    "execution": {
     "iopub.execute_input": "2024-12-03T14:35:58.190332Z",
     "iopub.status.busy": "2024-12-03T14:35:58.189983Z",
     "iopub.status.idle": "2024-12-03T14:35:58.222450Z",
     "shell.execute_reply": "2024-12-03T14:35:58.221389Z"
    },
    "papermill": {
     "duration": 0.050367,
     "end_time": "2024-12-03T14:35:58.224758",
     "exception": false,
     "start_time": "2024-12-03T14:35:58.174391",
     "status": "completed"
    },
    "tags": []
   },
   "outputs": [
    {
     "name": "stdout",
     "output_type": "stream",
     "text": [
      "XGBoost Model Accuracy Score: 88.33%\n",
      "ROC AUC Score: 0.7239012359797663\n",
      "Classification Report:\n",
      "               precision    recall  f1-score   support\n",
      "\n",
      "           0       0.89      0.99      0.94      9601\n",
      "           1       0.62      0.12      0.19      1337\n",
      "\n",
      "    accuracy                           0.88     10938\n",
      "   macro avg       0.76      0.55      0.57     10938\n",
      "weighted avg       0.86      0.88      0.85     10938\n",
      "\n"
     ]
    }
   ],
   "source": [
    "print('XGBoost Model Accuracy Score: {0:0.2f}'. format(accuracy_score(y_test, xgb_pred)*100)+ \"%\")\n",
    "print(\"ROC AUC Score:\", roc_auc_score(y_test, xgb_pred_proba))\n",
    "print(\"Classification Report:\\n\", classification_report(y_test, xgb_pred))"
   ]
  }
 ],
 "metadata": {
  "kaggle": {
   "accelerator": "none",
   "dataSources": [
    {
     "datasetId": 6192264,
     "sourceId": 10050242,
     "sourceType": "datasetVersion"
    }
   ],
   "dockerImageVersionId": 30786,
   "isGpuEnabled": false,
   "isInternetEnabled": true,
   "language": "python",
   "sourceType": "notebook"
  },
  "kernelspec": {
   "display_name": "Python 3",
   "language": "python",
   "name": "python3"
  },
  "language_info": {
   "codemirror_mode": {
    "name": "ipython",
    "version": 3
   },
   "file_extension": ".py",
   "mimetype": "text/x-python",
   "name": "python",
   "nbconvert_exporter": "python",
   "pygments_lexer": "ipython3",
   "version": "3.10.14"
  },
  "papermill": {
   "default_parameters": {},
   "duration": 16.860625,
   "end_time": "2024-12-03T14:35:58.962080",
   "environment_variables": {},
   "exception": null,
   "input_path": "__notebook__.ipynb",
   "output_path": "__notebook__.ipynb",
   "parameters": {},
   "start_time": "2024-12-03T14:35:42.101455",
   "version": "2.6.0"
  }
 },
 "nbformat": 4,
 "nbformat_minor": 5
}
